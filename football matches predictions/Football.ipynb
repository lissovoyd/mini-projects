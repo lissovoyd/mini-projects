{
 "cells": [
  {
   "cell_type": "code",
   "execution_count": 1,
   "id": "bd2206ab",
   "metadata": {},
   "outputs": [],
   "source": [
    "import requests\n",
    "from bs4 import BeautifulSoup as BS\n",
    "import pandas as pd\n",
    "import time"
   ]
  },
  {
   "cell_type": "code",
   "execution_count": 2,
   "id": "64104c88",
   "metadata": {},
   "outputs": [],
   "source": [
    "years = [2023,2022,2021,2020]\n",
    "total_list = []\n",
    "laliga_url = 'https://fbref.com/en/comps/12/La-Liga-Stats'"
   ]
  },
  {
   "cell_type": "code",
   "execution_count": 3,
   "id": "cb4a5ee3",
   "metadata": {},
   "outputs": [],
   "source": [
    "for year in years:\n",
    "    data = requests.get(laliga_url)\n",
    "    html = data.text #take html data\n",
    "    bs = BS(html)\n",
    "    time.sleep(5) #pause is crusial, because without it site with data would not let parsing\n",
    "    total_table = bs.select('table.stats_table')[0]\n",
    "\n",
    "    hyperlinks = [link.get('href') for link in total_table.find_all('a')] #getting link for every element that has 'a'- flag of hyperlink\n",
    "    hyperlinks = [link for link in hyperlinks if '/squads/' in link]\n",
    "    \n",
    "    teams_url = [f'https://fbref.com{link}' for link in hyperlinks] #add url of every team in championship\n",
    "    \n",
    "    season_before = bs.select('a.prev')[0].get('href') #get link for next iteration (previous season)\n",
    "    laliga_url = f'https://fbref.com{season_before}'\n",
    "    \n",
    "    for team in teams_url:\n",
    "        team_name = team.split('/')[-1].replace('-Stats', '')\n",
    "        data = requests.get(team)\n",
    "        html = data.text\n",
    "        matches = pd.read_html(html, match=\"Scores & Fixtures\")[0]\n",
    "        \n",
    "        bs = BS(html)\n",
    "        hyperlinks = [link.get('href') for link in bs.find_all('a')]\n",
    "        hyperlinks = [link for link in hyperlinks if link and 'all_comps/shooting/' in link]\n",
    "        \n",
    "        data = requests.get(f'https://fbref.com{hyperlinks[0]}')\n",
    "        html = data.text\n",
    "        shooting = pd.read_html(html, match='Shooting')[0] #get data from other table with information about goals, shootings, etc.\n",
    "        shooting.columns = shooting.columns.droplevel()\n",
    "                            \n",
    "        try:\n",
    "            team_data = matches.merge(shooting[['Date','Sh', 'SoT','G/Sh','G/SoT', 'Dist','PK', 'FK', 'PKatt']], on='Date')\n",
    "        except ValueError: #in case of absense of some values\n",
    "            continue\n",
    "            \n",
    "        team_data = team_data[team_data['Comp'] == 'La Liga'] #leave only La Liga championship\n",
    "        team_data['Season'] = f'{year-1}-{year}'\n",
    "        team_data['Team'] = team_name\n",
    "        \n",
    "        total_list.append(team_data)\n",
    "        time.sleep(5)"
   ]
  },
  {
   "cell_type": "code",
   "execution_count": 4,
   "id": "190e661c",
   "metadata": {},
   "outputs": [
    {
     "ename": "NameError",
     "evalue": "name 'all_matches' is not defined",
     "output_type": "error",
     "traceback": [
      "\u001b[1;31m---------------------------------------------------------------------------\u001b[0m",
      "\u001b[1;31mNameError\u001b[0m                                 Traceback (most recent call last)",
      "\u001b[1;32m~\\AppData\\Local\\Temp/ipykernel_37016/119239917.py\u001b[0m in \u001b[0;36m<module>\u001b[1;34m\u001b[0m\n\u001b[1;32m----> 1\u001b[1;33m \u001b[0mdf\u001b[0m \u001b[1;33m=\u001b[0m \u001b[0mpd\u001b[0m\u001b[1;33m.\u001b[0m\u001b[0mconcat\u001b[0m\u001b[1;33m(\u001b[0m\u001b[0mall_matches\u001b[0m\u001b[1;33m)\u001b[0m\u001b[1;33m\u001b[0m\u001b[1;33m\u001b[0m\u001b[0m\n\u001b[0m",
      "\u001b[1;31mNameError\u001b[0m: name 'all_matches' is not defined"
     ]
    }
   ],
   "source": [
    "df = pd.concat(all_matches)"
   ]
  },
  {
   "cell_type": "code",
   "execution_count": null,
   "id": "9fd06577",
   "metadata": {},
   "outputs": [],
   "source": [
    "df.to_csv('matches_laliga.csv')"
   ]
  },
  {
   "cell_type": "code",
   "execution_count": null,
   "id": "be96e5df",
   "metadata": {},
   "outputs": [],
   "source": [
    "df"
   ]
  },
  {
   "cell_type": "code",
   "execution_count": null,
   "id": "07e420d8",
   "metadata": {},
   "outputs": [],
   "source": []
  },
  {
   "cell_type": "code",
   "execution_count": null,
   "id": "48f8da1c",
   "metadata": {},
   "outputs": [],
   "source": []
  },
  {
   "cell_type": "code",
   "execution_count": null,
   "id": "527093d0",
   "metadata": {},
   "outputs": [],
   "source": []
  }
 ],
 "metadata": {
  "kernelspec": {
   "display_name": "Python 3 (ipykernel)",
   "language": "python",
   "name": "python3"
  },
  "language_info": {
   "codemirror_mode": {
    "name": "ipython",
    "version": 3
   },
   "file_extension": ".py",
   "mimetype": "text/x-python",
   "name": "python",
   "nbconvert_exporter": "python",
   "pygments_lexer": "ipython3",
   "version": "3.9.7"
  }
 },
 "nbformat": 4,
 "nbformat_minor": 5
}
