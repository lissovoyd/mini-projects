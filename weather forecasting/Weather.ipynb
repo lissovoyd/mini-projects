{
 "cells": [
  {
   "cell_type": "code",
   "execution_count": 1,
   "id": "08af8fc3",
   "metadata": {},
   "outputs": [],
   "source": [
    "import pandas as pd\n",
    "import numpy as np\n",
    "from datetime import datetime"
   ]
  },
  {
   "cell_type": "code",
   "execution_count": 2,
   "id": "1078029d",
   "metadata": {},
   "outputs": [
    {
     "data": {
      "text/html": [
       "<div>\n",
       "<style scoped>\n",
       "    .dataframe tbody tr th:only-of-type {\n",
       "        vertical-align: middle;\n",
       "    }\n",
       "\n",
       "    .dataframe tbody tr th {\n",
       "        vertical-align: top;\n",
       "    }\n",
       "\n",
       "    .dataframe thead th {\n",
       "        text-align: right;\n",
       "    }\n",
       "</style>\n",
       "<table border=\"1\" class=\"dataframe\">\n",
       "  <thead>\n",
       "    <tr style=\"text-align: right;\">\n",
       "      <th></th>\n",
       "      <th>STATION</th>\n",
       "      <th>NAME</th>\n",
       "      <th>DATE</th>\n",
       "      <th>PRCP</th>\n",
       "      <th>SNWD</th>\n",
       "      <th>TAVG</th>\n",
       "      <th>TMAX</th>\n",
       "      <th>TMIN</th>\n",
       "    </tr>\n",
       "  </thead>\n",
       "  <tbody>\n",
       "    <tr>\n",
       "      <th>0</th>\n",
       "      <td>KZ000035188</td>\n",
       "      <td>ASTANA, KZ</td>\n",
       "      <td>1973-01-01</td>\n",
       "      <td>0.0</td>\n",
       "      <td>NaN</td>\n",
       "      <td>-15.8</td>\n",
       "      <td>-10.5</td>\n",
       "      <td>-21.0</td>\n",
       "    </tr>\n",
       "    <tr>\n",
       "      <th>1</th>\n",
       "      <td>KZ000035188</td>\n",
       "      <td>ASTANA, KZ</td>\n",
       "      <td>1973-01-02</td>\n",
       "      <td>1.4</td>\n",
       "      <td>NaN</td>\n",
       "      <td>-13.1</td>\n",
       "      <td>-9.3</td>\n",
       "      <td>-19.2</td>\n",
       "    </tr>\n",
       "    <tr>\n",
       "      <th>2</th>\n",
       "      <td>KZ000035188</td>\n",
       "      <td>ASTANA, KZ</td>\n",
       "      <td>1973-01-03</td>\n",
       "      <td>1.8</td>\n",
       "      <td>NaN</td>\n",
       "      <td>-9.8</td>\n",
       "      <td>-7.8</td>\n",
       "      <td>-14.2</td>\n",
       "    </tr>\n",
       "    <tr>\n",
       "      <th>3</th>\n",
       "      <td>KZ000035188</td>\n",
       "      <td>ASTANA, KZ</td>\n",
       "      <td>1973-01-04</td>\n",
       "      <td>0.2</td>\n",
       "      <td>NaN</td>\n",
       "      <td>-10.2</td>\n",
       "      <td>-6.3</td>\n",
       "      <td>-17.6</td>\n",
       "    </tr>\n",
       "    <tr>\n",
       "      <th>4</th>\n",
       "      <td>KZ000035188</td>\n",
       "      <td>ASTANA, KZ</td>\n",
       "      <td>1973-01-05</td>\n",
       "      <td>2.4</td>\n",
       "      <td>201.0</td>\n",
       "      <td>-9.5</td>\n",
       "      <td>-6.3</td>\n",
       "      <td>-18.2</td>\n",
       "    </tr>\n",
       "  </tbody>\n",
       "</table>\n",
       "</div>"
      ],
      "text/plain": [
       "       STATION        NAME        DATE  PRCP   SNWD  TAVG  TMAX  TMIN\n",
       "0  KZ000035188  ASTANA, KZ  1973-01-01   0.0    NaN -15.8 -10.5 -21.0\n",
       "1  KZ000035188  ASTANA, KZ  1973-01-02   1.4    NaN -13.1  -9.3 -19.2\n",
       "2  KZ000035188  ASTANA, KZ  1973-01-03   1.8    NaN  -9.8  -7.8 -14.2\n",
       "3  KZ000035188  ASTANA, KZ  1973-01-04   0.2    NaN -10.2  -6.3 -17.6\n",
       "4  KZ000035188  ASTANA, KZ  1973-01-05   2.4  201.0  -9.5  -6.3 -18.2"
      ]
     },
     "execution_count": 2,
     "metadata": {},
     "output_type": "execute_result"
    }
   ],
   "source": [
    "ast = pd.read_csv(\"3268270.csv\")\n",
    "ast.head()"
   ]
  },
  {
   "cell_type": "code",
   "execution_count": 3,
   "id": "aee5ecbd",
   "metadata": {},
   "outputs": [
    {
     "data": {
      "text/plain": [
       "STATION    18328\n",
       "NAME       18328\n",
       "DATE       18328\n",
       "PRCP       12053\n",
       "SNWD        3240\n",
       "TAVG       18328\n",
       "TMAX       16267\n",
       "TMIN       12909\n",
       "dtype: int64"
      ]
     },
     "execution_count": 3,
     "metadata": {},
     "output_type": "execute_result"
    }
   ],
   "source": [
    "ast.notnull().sum() #lack of data for SNWD - snowdepth, will try to change that"
   ]
  },
  {
   "cell_type": "code",
   "execution_count": 4,
   "id": "0a756eab",
   "metadata": {},
   "outputs": [],
   "source": [
    "ast[\"YEAR\"] = ast[\"DATE\"].apply(lambda x: datetime.strptime(x,'%Y-%m-%d').year)\n",
    "ast[\"MONTH\"]  = ast[\"DATE\"].apply(lambda x: datetime.strptime(x,'%Y-%m-%d').month)\n",
    "ast[\"DAY\"] = ast[\"DATE\"].apply(lambda x: datetime.strptime(x,'%Y-%m-%d').day)"
   ]
  },
  {
   "cell_type": "code",
   "execution_count": 5,
   "id": "84afc99b",
   "metadata": {},
   "outputs": [],
   "source": [
    "ast[(ast['MONTH']>3) & (ast['MONTH']<10) & (pd.isnull(ast['SNWD'])==True)] = ast[(ast['MONTH']>3) & (ast['MONTH']<10) & (pd.isnull(ast['SNWD'])==True)].fillna(0)\n",
    "#For warm month changing NaN values of SNWD to 0\n",
    "\n",
    "\n",
    "#For other month changing Nan values to mean values of each month\n",
    "for i in range(1,4):\n",
    "    ast.loc[ast['MONTH']==i,'SNWD'] = ast.loc[ast['MONTH']==i,'SNWD'].fillna(ast.loc[ast['MONTH']==i,'SNWD'].mean())\n",
    "\n",
    "for i in range(10,13):\n",
    "    ast.loc[ast['MONTH']==i,'SNWD'] = ast.loc[ast['MONTH']==i,'SNWD'].fillna(ast.loc[ast['MONTH']==i,'SNWD'].mean())"
   ]
  },
  {
   "cell_type": "code",
   "execution_count": 6,
   "id": "8dc04128",
   "metadata": {},
   "outputs": [],
   "source": [
    "ast = ast.dropna()"
   ]
  },
  {
   "cell_type": "markdown",
   "id": "662517c5",
   "metadata": {},
   "source": [
    "#### Checking data on the graphs. 1) It visible that there is little data in the range (12500,17500) therefore delete this period. 2) Three spikes on the second graph cause doubts and are brobably garbage data, therefore delete them "
   ]
  },
  {
   "cell_type": "code",
   "execution_count": 7,
   "id": "e714029f",
   "metadata": {},
   "outputs": [
    {
     "data": {
      "text/plain": [
       "<AxesSubplot:>"
      ]
     },
     "execution_count": 7,
     "metadata": {},
     "output_type": "execute_result"
    },
    {
     "data": {
      "image/png": "[encoded data removed]",
      "text/plain": [
       "<Figure size 432x288 with 1 Axes>"
      ]
     },
     "metadata": {
      "needs_background": "light"
     },
     "output_type": "display_data"
    }
   ],
   "source": [
    "ast[\"TMIN\"].plot()"
   ]
  },
  {
   "cell_type": "code",
   "execution_count": 8,
   "id": "23ea08b8",
   "metadata": {},
   "outputs": [
    {
     "data": {
      "text/plain": [
       "<AxesSubplot:>"
      ]
     },
     "execution_count": 8,
     "metadata": {},
     "output_type": "execute_result"
    },
    {
     "data": {
      "image/png": "[encoded data removed]",
      "text/plain": [
       "<Figure size 432x288 with 1 Axes>"
      ]
     },
     "metadata": {
      "needs_background": "light"
     },
     "output_type": "display_data"
    }
   ],
   "source": [
    "ast[\"SNWD\"].plot()"
   ]
  },
  {
   "cell_type": "code",
   "execution_count": 9,
   "id": "4f2a7041",
   "metadata": {},
   "outputs": [
    {
     "data": {
      "text/html": [
       "<div>\n",
       "<style scoped>\n",
       "    .dataframe tbody tr th:only-of-type {\n",
       "        vertical-align: middle;\n",
       "    }\n",
       "\n",
       "    .dataframe tbody tr th {\n",
       "        vertical-align: top;\n",
       "    }\n",
       "\n",
       "    .dataframe thead th {\n",
       "        text-align: right;\n",
       "    }\n",
       "</style>\n",
       "<table border=\"1\" class=\"dataframe\">\n",
       "  <thead>\n",
       "    <tr style=\"text-align: right;\">\n",
       "      <th></th>\n",
       "      <th>STATION</th>\n",
       "      <th>NAME</th>\n",
       "      <th>DATE</th>\n",
       "      <th>PRCP</th>\n",
       "      <th>SNWD</th>\n",
       "      <th>TAVG</th>\n",
       "      <th>TMAX</th>\n",
       "      <th>TMIN</th>\n",
       "      <th>YEAR</th>\n",
       "      <th>MONTH</th>\n",
       "      <th>DAY</th>\n",
       "    </tr>\n",
       "  </thead>\n",
       "  <tbody>\n",
       "    <tr>\n",
       "      <th>3680</th>\n",
       "      <td>KZ000035188</td>\n",
       "      <td>ASTANA, KZ</td>\n",
       "      <td>1983-01-29</td>\n",
       "      <td>0.9</td>\n",
       "      <td>2979.0</td>\n",
       "      <td>-9.0</td>\n",
       "      <td>-7.1</td>\n",
       "      <td>-14.3</td>\n",
       "      <td>1983</td>\n",
       "      <td>1</td>\n",
       "      <td>29</td>\n",
       "    </tr>\n",
       "    <tr>\n",
       "      <th>7727</th>\n",
       "      <td>KZ000035188</td>\n",
       "      <td>ASTANA, KZ</td>\n",
       "      <td>1994-02-27</td>\n",
       "      <td>0.0</td>\n",
       "      <td>2479.0</td>\n",
       "      <td>-11.7</td>\n",
       "      <td>-7.7</td>\n",
       "      <td>-16.5</td>\n",
       "      <td>1994</td>\n",
       "      <td>2</td>\n",
       "      <td>27</td>\n",
       "    </tr>\n",
       "    <tr>\n",
       "      <th>8491</th>\n",
       "      <td>KZ000035188</td>\n",
       "      <td>ASTANA, KZ</td>\n",
       "      <td>1996-04-01</td>\n",
       "      <td>0.0</td>\n",
       "      <td>1280.0</td>\n",
       "      <td>-6.5</td>\n",
       "      <td>-1.5</td>\n",
       "      <td>-11.9</td>\n",
       "      <td>1996</td>\n",
       "      <td>4</td>\n",
       "      <td>1</td>\n",
       "    </tr>\n",
       "  </tbody>\n",
       "</table>\n",
       "</div>"
      ],
      "text/plain": [
       "          STATION        NAME        DATE  PRCP    SNWD  TAVG  TMAX  TMIN  \\\n",
       "3680  KZ000035188  ASTANA, KZ  1983-01-29   0.9  2979.0  -9.0  -7.1 -14.3   \n",
       "7727  KZ000035188  ASTANA, KZ  1994-02-27   0.0  2479.0 -11.7  -7.7 -16.5   \n",
       "8491  KZ000035188  ASTANA, KZ  1996-04-01   0.0  1280.0  -6.5  -1.5 -11.9   \n",
       "\n",
       "      YEAR  MONTH  DAY  \n",
       "3680  1983      1   29  \n",
       "7727  1994      2   27  \n",
       "8491  1996      4    1  "
      ]
     },
     "execution_count": 9,
     "metadata": {},
     "output_type": "execute_result"
    }
   ],
   "source": [
    "ast[ast['SNWD']>1000]"
   ]
  },
  {
   "cell_type": "code",
   "execution_count": 10,
   "id": "7bc0f37b",
   "metadata": {},
   "outputs": [
    {
     "data": {
      "text/plain": [
       "<AxesSubplot:>"
      ]
     },
     "execution_count": 10,
     "metadata": {},
     "output_type": "execute_result"
    },
    {
     "data": {
      "image/png": "[encoded data removed]",
      "text/plain": [
       "<Figure size 432x288 with 1 Axes>"
      ]
     },
     "metadata": {
      "needs_background": "light"
     },
     "output_type": "display_data"
    }
   ],
   "source": [
    "ast = ast.drop([3680,7727,8491], axis=0)\n",
    "ast[\"SNWD\"].plot()"
   ]
  },
  {
   "cell_type": "code",
   "execution_count": 11,
   "id": "74a3e4b4",
   "metadata": {},
   "outputs": [
    {
     "data": {
      "text/plain": [
       "<AxesSubplot:>"
      ]
     },
     "execution_count": 11,
     "metadata": {},
     "output_type": "execute_result"
    },
    {
     "data": {
      "image/png": "[encoded data removed]",
      "text/plain": [
       "<Figure size 432x288 with 1 Axes>"
      ]
     },
     "metadata": {
      "needs_background": "light"
     },
     "output_type": "display_data"
    }
   ],
   "source": [
    "ast = ast.drop(ast.index[12031:], axis=0)\n",
    "ast[\"SNWD\"].plot()"
   ]
  },
  {
   "cell_type": "code",
   "execution_count": 12,
   "id": "d026c5dd",
   "metadata": {},
   "outputs": [
    {
     "name": "stderr",
     "output_type": "stream",
     "text": [
      "E:\\Programming\\lib\\site-packages\\pandas\\core\\indexing.py:1732: SettingWithCopyWarning: \n",
      "A value is trying to be set on a copy of a slice from a DataFrame\n",
      "\n",
      "See the caveats in the documentation: https://pandas.pydata.org/pandas-docs/stable/user_guide/indexing.html#returning-a-view-versus-a-copy\n",
      "  self._setitem_single_block(indexer, value, name)\n"
     ]
    },
    {
     "data": {
      "text/html": [
       "<div>\n",
       "<style scoped>\n",
       "    .dataframe tbody tr th:only-of-type {\n",
       "        vertical-align: middle;\n",
       "    }\n",
       "\n",
       "    .dataframe tbody tr th {\n",
       "        vertical-align: top;\n",
       "    }\n",
       "\n",
       "    .dataframe thead th {\n",
       "        text-align: right;\n",
       "    }\n",
       "</style>\n",
       "<table border=\"1\" class=\"dataframe\">\n",
       "  <thead>\n",
       "    <tr style=\"text-align: right;\">\n",
       "      <th></th>\n",
       "      <th>STATION</th>\n",
       "      <th>NAME</th>\n",
       "      <th>DATE</th>\n",
       "      <th>PRCP</th>\n",
       "      <th>SNWD</th>\n",
       "      <th>TAVG</th>\n",
       "      <th>TMAX</th>\n",
       "      <th>TMIN</th>\n",
       "      <th>YEAR</th>\n",
       "      <th>MONTH</th>\n",
       "      <th>DAY</th>\n",
       "      <th>TARGET</th>\n",
       "    </tr>\n",
       "  </thead>\n",
       "  <tbody>\n",
       "    <tr>\n",
       "      <th>0</th>\n",
       "      <td>KZ000035188</td>\n",
       "      <td>ASTANA, KZ</td>\n",
       "      <td>1973-01-01</td>\n",
       "      <td>0.0</td>\n",
       "      <td>199.389430</td>\n",
       "      <td>-15.8</td>\n",
       "      <td>-10.5</td>\n",
       "      <td>-21.0</td>\n",
       "      <td>1973</td>\n",
       "      <td>1</td>\n",
       "      <td>1</td>\n",
       "      <td>-9.3</td>\n",
       "    </tr>\n",
       "    <tr>\n",
       "      <th>1</th>\n",
       "      <td>KZ000035188</td>\n",
       "      <td>ASTANA, KZ</td>\n",
       "      <td>1973-01-02</td>\n",
       "      <td>1.4</td>\n",
       "      <td>199.389430</td>\n",
       "      <td>-13.1</td>\n",
       "      <td>-9.3</td>\n",
       "      <td>-19.2</td>\n",
       "      <td>1973</td>\n",
       "      <td>1</td>\n",
       "      <td>2</td>\n",
       "      <td>-7.8</td>\n",
       "    </tr>\n",
       "    <tr>\n",
       "      <th>2</th>\n",
       "      <td>KZ000035188</td>\n",
       "      <td>ASTANA, KZ</td>\n",
       "      <td>1973-01-03</td>\n",
       "      <td>1.8</td>\n",
       "      <td>199.389430</td>\n",
       "      <td>-9.8</td>\n",
       "      <td>-7.8</td>\n",
       "      <td>-14.2</td>\n",
       "      <td>1973</td>\n",
       "      <td>1</td>\n",
       "      <td>3</td>\n",
       "      <td>-6.3</td>\n",
       "    </tr>\n",
       "    <tr>\n",
       "      <th>3</th>\n",
       "      <td>KZ000035188</td>\n",
       "      <td>ASTANA, KZ</td>\n",
       "      <td>1973-01-04</td>\n",
       "      <td>0.2</td>\n",
       "      <td>199.389430</td>\n",
       "      <td>-10.2</td>\n",
       "      <td>-6.3</td>\n",
       "      <td>-17.6</td>\n",
       "      <td>1973</td>\n",
       "      <td>1</td>\n",
       "      <td>4</td>\n",
       "      <td>-6.3</td>\n",
       "    </tr>\n",
       "    <tr>\n",
       "      <th>4</th>\n",
       "      <td>KZ000035188</td>\n",
       "      <td>ASTANA, KZ</td>\n",
       "      <td>1973-01-05</td>\n",
       "      <td>2.4</td>\n",
       "      <td>201.000000</td>\n",
       "      <td>-9.5</td>\n",
       "      <td>-6.3</td>\n",
       "      <td>-18.2</td>\n",
       "      <td>1973</td>\n",
       "      <td>1</td>\n",
       "      <td>5</td>\n",
       "      <td>-13.5</td>\n",
       "    </tr>\n",
       "    <tr>\n",
       "      <th>...</th>\n",
       "      <td>...</td>\n",
       "      <td>...</td>\n",
       "      <td>...</td>\n",
       "      <td>...</td>\n",
       "      <td>...</td>\n",
       "      <td>...</td>\n",
       "      <td>...</td>\n",
       "      <td>...</td>\n",
       "      <td>...</td>\n",
       "      <td>...</td>\n",
       "      <td>...</td>\n",
       "      <td>...</td>\n",
       "    </tr>\n",
       "    <tr>\n",
       "      <th>12048</th>\n",
       "      <td>KZ000035188</td>\n",
       "      <td>ASTANA, KZ</td>\n",
       "      <td>2005-12-27</td>\n",
       "      <td>0.8</td>\n",
       "      <td>132.656489</td>\n",
       "      <td>-2.6</td>\n",
       "      <td>-0.7</td>\n",
       "      <td>-3.3</td>\n",
       "      <td>2005</td>\n",
       "      <td>12</td>\n",
       "      <td>27</td>\n",
       "      <td>-2.7</td>\n",
       "    </tr>\n",
       "    <tr>\n",
       "      <th>12049</th>\n",
       "      <td>KZ000035188</td>\n",
       "      <td>ASTANA, KZ</td>\n",
       "      <td>2005-12-28</td>\n",
       "      <td>1.7</td>\n",
       "      <td>132.656489</td>\n",
       "      <td>-7.5</td>\n",
       "      <td>-2.7</td>\n",
       "      <td>-13.5</td>\n",
       "      <td>2005</td>\n",
       "      <td>12</td>\n",
       "      <td>28</td>\n",
       "      <td>-13.5</td>\n",
       "    </tr>\n",
       "    <tr>\n",
       "      <th>12050</th>\n",
       "      <td>KZ000035188</td>\n",
       "      <td>ASTANA, KZ</td>\n",
       "      <td>2005-12-29</td>\n",
       "      <td>0.2</td>\n",
       "      <td>132.656489</td>\n",
       "      <td>-20.9</td>\n",
       "      <td>-13.5</td>\n",
       "      <td>-26.9</td>\n",
       "      <td>2005</td>\n",
       "      <td>12</td>\n",
       "      <td>29</td>\n",
       "      <td>-10.7</td>\n",
       "    </tr>\n",
       "    <tr>\n",
       "      <th>12051</th>\n",
       "      <td>KZ000035188</td>\n",
       "      <td>ASTANA, KZ</td>\n",
       "      <td>2005-12-30</td>\n",
       "      <td>1.1</td>\n",
       "      <td>132.656489</td>\n",
       "      <td>-12.6</td>\n",
       "      <td>-10.7</td>\n",
       "      <td>-17.5</td>\n",
       "      <td>2005</td>\n",
       "      <td>12</td>\n",
       "      <td>30</td>\n",
       "      <td>-12.9</td>\n",
       "    </tr>\n",
       "    <tr>\n",
       "      <th>12052</th>\n",
       "      <td>KZ000035188</td>\n",
       "      <td>ASTANA, KZ</td>\n",
       "      <td>2005-12-31</td>\n",
       "      <td>1.3</td>\n",
       "      <td>132.656489</td>\n",
       "      <td>-15.4</td>\n",
       "      <td>-12.9</td>\n",
       "      <td>-20.8</td>\n",
       "      <td>2005</td>\n",
       "      <td>12</td>\n",
       "      <td>31</td>\n",
       "      <td>-12.9</td>\n",
       "    </tr>\n",
       "  </tbody>\n",
       "</table>\n",
       "<p>12031 rows × 12 columns</p>\n",
       "</div>"
      ],
      "text/plain": [
       "           STATION        NAME        DATE  PRCP        SNWD  TAVG  TMAX  \\\n",
       "0      KZ000035188  ASTANA, KZ  1973-01-01   0.0  199.389430 -15.8 -10.5   \n",
       "1      KZ000035188  ASTANA, KZ  1973-01-02   1.4  199.389430 -13.1  -9.3   \n",
       "2      KZ000035188  ASTANA, KZ  1973-01-03   1.8  199.389430  -9.8  -7.8   \n",
       "3      KZ000035188  ASTANA, KZ  1973-01-04   0.2  199.389430 -10.2  -6.3   \n",
       "4      KZ000035188  ASTANA, KZ  1973-01-05   2.4  201.000000  -9.5  -6.3   \n",
       "...            ...         ...         ...   ...         ...   ...   ...   \n",
       "12048  KZ000035188  ASTANA, KZ  2005-12-27   0.8  132.656489  -2.6  -0.7   \n",
       "12049  KZ000035188  ASTANA, KZ  2005-12-28   1.7  132.656489  -7.5  -2.7   \n",
       "12050  KZ000035188  ASTANA, KZ  2005-12-29   0.2  132.656489 -20.9 -13.5   \n",
       "12051  KZ000035188  ASTANA, KZ  2005-12-30   1.1  132.656489 -12.6 -10.7   \n",
       "12052  KZ000035188  ASTANA, KZ  2005-12-31   1.3  132.656489 -15.4 -12.9   \n",
       "\n",
       "       TMIN  YEAR  MONTH  DAY  TARGET  \n",
       "0     -21.0  1973      1    1    -9.3  \n",
       "1     -19.2  1973      1    2    -7.8  \n",
       "2     -14.2  1973      1    3    -6.3  \n",
       "3     -17.6  1973      1    4    -6.3  \n",
       "4     -18.2  1973      1    5   -13.5  \n",
       "...     ...   ...    ...  ...     ...  \n",
       "12048  -3.3  2005     12   27    -2.7  \n",
       "12049 -13.5  2005     12   28   -13.5  \n",
       "12050 -26.9  2005     12   29   -10.7  \n",
       "12051 -17.5  2005     12   30   -12.9  \n",
       "12052 -20.8  2005     12   31   -12.9  \n",
       "\n",
       "[12031 rows x 12 columns]"
      ]
     },
     "execution_count": 12,
     "metadata": {},
     "output_type": "execute_result"
    }
   ],
   "source": [
    "ast['TARGET'] = ast.shift(-1)['TMAX']\n",
    "ast['TARGET'].iloc[-1] = ast['TARGET'].iloc[-2]\n",
    "ast"
   ]
  },
  {
   "cell_type": "markdown",
   "id": "36e8582e",
   "metadata": {},
   "source": [
    "### "
   ]
  },
  {
   "cell_type": "markdown",
   "id": "887f7e94",
   "metadata": {},
   "source": [
    "#### Writing function to create predictions."
   ]
  },
  {
   "cell_type": "code",
   "execution_count": 13,
   "id": "104ce735",
   "metadata": {},
   "outputs": [],
   "source": [
    "from sklearn.linear_model import Ridge"
   ]
  },
  {
   "cell_type": "code",
   "execution_count": 14,
   "id": "4dc89407",
   "metadata": {},
   "outputs": [],
   "source": [
    "r = Ridge(alpha=0.1)"
   ]
  },
  {
   "cell_type": "code",
   "execution_count": 15,
   "id": "ad5f73bf",
   "metadata": {},
   "outputs": [
    {
     "data": {
      "text/plain": [
       "Index(['PRCP', 'SNWD', 'TAVG', 'TMAX', 'TMIN'], dtype='object')"
      ]
     },
     "execution_count": 15,
     "metadata": {},
     "output_type": "execute_result"
    }
   ],
   "source": [
    "predictors = ast.columns[~ast.columns.isin(['TARGET','NAME','STATION','DATE','YEAR','MONTH','DAY'])]\n",
    "predictors"
   ]
  },
  {
   "cell_type": "code",
   "execution_count": 44,
   "id": "841eaa3d",
   "metadata": {},
   "outputs": [],
   "source": [
    "def forecast(ast, model, predictors, start=1000, step=50):\n",
    "    all_ = []\n",
    "    \n",
    "    for i in range(start, ast.shape[0], step):\n",
    "        test = ast.iloc[i:(i+step),:]\n",
    "        train = ast.iloc[:i,:]\n",
    "       \n",
    "        model.fit(train[predictors], train['TARGET'])\n",
    "        preds = model.predict(test[predictors])\n",
    "        preds = pd.Series(preds, index=test.index)\n",
    "        merged = pd.concat([test['TARGET'], preds], axis=1)\n",
    "        \n",
    "        merged.columns = ['real', 'forecast']\n",
    "        merged['difference'] = (merged['forecast'] - merged['real']).abs()\n",
    "        \n",
    "        all_.append(merged)\n",
    "    return pd.concat(all_)"
   ]
  },
  {
   "cell_type": "markdown",
   "id": "a75f9e12",
   "metadata": {},
   "source": [
    "#### Obtaining predictions.The column 'difference' is the error between prediction and actual data. As it can be seen mean error is 3 degrees Celcius, which is quite good result"
   ]
  },
  {
   "cell_type": "code",
   "execution_count": 45,
   "id": "8480ce3b",
   "metadata": {},
   "outputs": [
    {
     "data": {
      "text/html": [
       "<div>\n",
       "<style scoped>\n",
       "    .dataframe tbody tr th:only-of-type {\n",
       "        vertical-align: middle;\n",
       "    }\n",
       "\n",
       "    .dataframe tbody tr th {\n",
       "        vertical-align: top;\n",
       "    }\n",
       "\n",
       "    .dataframe thead th {\n",
       "        text-align: right;\n",
       "    }\n",
       "</style>\n",
       "<table border=\"1\" class=\"dataframe\">\n",
       "  <thead>\n",
       "    <tr style=\"text-align: right;\">\n",
       "      <th></th>\n",
       "      <th>real</th>\n",
       "      <th>forecast</th>\n",
       "      <th>diff</th>\n",
       "    </tr>\n",
       "  </thead>\n",
       "  <tbody>\n",
       "    <tr>\n",
       "      <th>1000</th>\n",
       "      <td>14.1</td>\n",
       "      <td>11.109744</td>\n",
       "      <td>2.990256</td>\n",
       "    </tr>\n",
       "    <tr>\n",
       "      <th>1001</th>\n",
       "      <td>18.0</td>\n",
       "      <td>14.581815</td>\n",
       "      <td>3.418185</td>\n",
       "    </tr>\n",
       "    <tr>\n",
       "      <th>1002</th>\n",
       "      <td>19.3</td>\n",
       "      <td>18.013632</td>\n",
       "      <td>1.286368</td>\n",
       "    </tr>\n",
       "    <tr>\n",
       "      <th>1003</th>\n",
       "      <td>11.7</td>\n",
       "      <td>18.924063</td>\n",
       "      <td>7.224063</td>\n",
       "    </tr>\n",
       "    <tr>\n",
       "      <th>1004</th>\n",
       "      <td>11.7</td>\n",
       "      <td>12.413216</td>\n",
       "      <td>0.713216</td>\n",
       "    </tr>\n",
       "    <tr>\n",
       "      <th>...</th>\n",
       "      <td>...</td>\n",
       "      <td>...</td>\n",
       "      <td>...</td>\n",
       "    </tr>\n",
       "    <tr>\n",
       "      <th>12048</th>\n",
       "      <td>-2.7</td>\n",
       "      <td>-0.026396</td>\n",
       "      <td>2.673604</td>\n",
       "    </tr>\n",
       "    <tr>\n",
       "      <th>12049</th>\n",
       "      <td>-13.5</td>\n",
       "      <td>-2.154736</td>\n",
       "      <td>11.345264</td>\n",
       "    </tr>\n",
       "    <tr>\n",
       "      <th>12050</th>\n",
       "      <td>-10.7</td>\n",
       "      <td>-13.187469</td>\n",
       "      <td>2.487469</td>\n",
       "    </tr>\n",
       "    <tr>\n",
       "      <th>12051</th>\n",
       "      <td>-12.9</td>\n",
       "      <td>-8.271363</td>\n",
       "      <td>4.628637</td>\n",
       "    </tr>\n",
       "    <tr>\n",
       "      <th>12052</th>\n",
       "      <td>-12.9</td>\n",
       "      <td>-10.525081</td>\n",
       "      <td>2.374919</td>\n",
       "    </tr>\n",
       "  </tbody>\n",
       "</table>\n",
       "<p>11031 rows × 3 columns</p>\n",
       "</div>"
      ],
      "text/plain": [
       "       real   forecast       diff\n",
       "1000   14.1  11.109744   2.990256\n",
       "1001   18.0  14.581815   3.418185\n",
       "1002   19.3  18.013632   1.286368\n",
       "1003   11.7  18.924063   7.224063\n",
       "1004   11.7  12.413216   0.713216\n",
       "...     ...        ...        ...\n",
       "12048  -2.7  -0.026396   2.673604\n",
       "12049 -13.5  -2.154736  11.345264\n",
       "12050 -10.7 -13.187469   2.487469\n",
       "12051 -12.9  -8.271363   4.628637\n",
       "12052 -12.9 -10.525081   2.374919\n",
       "\n",
       "[11031 rows x 3 columns]"
      ]
     },
     "execution_count": 45,
     "metadata": {},
     "output_type": "execute_result"
    }
   ],
   "source": [
    "predictions = forecast(ast, r, predictors)\n",
    "predictions"
   ]
  },
  {
   "cell_type": "code",
   "execution_count": 46,
   "id": "25201ea0",
   "metadata": {},
   "outputs": [
    {
     "data": {
      "text/plain": [
       "3.0098449037406994"
      ]
     },
     "execution_count": 46,
     "metadata": {},
     "output_type": "execute_result"
    }
   ],
   "source": [
    "predictions['diff'].mean()"
   ]
  },
  {
   "cell_type": "code",
   "execution_count": null,
   "id": "9dc96d98",
   "metadata": {},
   "outputs": [],
   "source": []
  }
 ],
 "metadata": {
  "kernelspec": {
   "display_name": "Python 3 (ipykernel)",
   "language": "python",
   "name": "python3"
  },
  "language_info": {
   "codemirror_mode": {
    "name": "ipython",
    "version": 3
   },
   "file_extension": ".py",
   "mimetype": "text/x-python",
   "name": "python",
   "nbconvert_exporter": "python",
   "pygments_lexer": "ipython3",
   "version": "3.9.7"
  }
 },
 "nbformat": 4,
 "nbformat_minor": 5
}
